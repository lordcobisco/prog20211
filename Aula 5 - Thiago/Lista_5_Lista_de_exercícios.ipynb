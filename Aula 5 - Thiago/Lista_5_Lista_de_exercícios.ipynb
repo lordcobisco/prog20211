{
  "cells": [
    {
      "cell_type": "markdown",
      "metadata": {
        "colab_type": "text",
        "id": "view-in-github"
      },
      "source": [
        "<a href=\"https://colab.research.google.com/github/ftthiagoaraujo/prog20211/blob/main/Lista_5_Lista_de_exerc%C3%ADcios.ipynb\" target=\"_parent\"><img src=\"https://colab.research.google.com/assets/colab-badge.svg\" alt=\"Open In Colab\"/></a>"
      ]
    },
    {
      "cell_type": "markdown",
      "metadata": {
        "id": "Qyyt81tFu_aH"
      },
      "source": [
        "# Questão 1:\n",
        "A. Realize o download dos dados de forma manual e crie uma lista e uma tupla com as informações disponíveis no documento csv (coloque pelo menos 1 linha por estado e 10 regiões de saúde diferentes, algo próximo de umas 40 linhas)."
      ]
    },
    {
      "cell_type": "code",
      "execution_count": 12,
      "metadata": {
        "colab": {
          "base_uri": "https://localhost:8080/"
        },
        "id": "5VJAIenzRSWh",
        "outputId": "20ed0c1f-b528-4249-d2e8-5357ca9e8673"
      },
      "outputs": [
        {
          "name": "stdout",
          "output_type": "stream",
          "text": [
            "Estados e Regiões de Saúde em formato de LISTA:\n",
            "Regiões de Saúde do Estado do Rio Grande do Norte ['R1 - São José do Mipibu', 'R2 - Mossoró', 'R3 - João Câmara', 'R4 - Caicó', 'R5 - Santa Cruz', 'R6 - Pau dos Ferros', 'R7 - Metropolitana', 'R8 - Assu']\n",
            "Regiões de Saúde do Estado da Paraíba ['R1', 'R2', 'R3', 'R4', 'R5', 'R6', 'R7', 'R8', 'R9', 'R10', 'R11', 'R12', 'R13']\n",
            "Regiões de Saúde do Estado do Rio de Janeiro ['Baia da Ilha Grande', 'Baixada Litorânea', 'Centro-Sul', 'Médio Paraíba', 'Metropolitana I', 'Metropolitana II', 'Noroeste', 'Norte', 'Serrana']\n",
            "Regiões de Saúde do Estado do Rio Grande do Sul ['R1 - Verdes Campos', 'R2 - Entre Rios', 'R3 - Fronteira Oeste', 'R4 - Belas Praias', 'R5 - Bons Ventos', 'R6 - Vale do Paranhana', 'R7 - Vale dos Sinos', 'R8 - Vale do Caí', 'R9 - Cabonífera', 'R10 - Poa/ Vale do Gravataí']\n",
            "Estados e Regiões de Saúde em formato de TUPLA:\n",
            "Regiões de Saúde do Estado do Rio Grande do Norte ('R1 - São José do Mipibu', 'R2 - Mossoró', 'R3 - João Câmara', 'R4 - Caicó', 'R5 - Santa Cruz', 'R6 - Pau dos Ferros', 'R7 - Metropolitana', 'R8 - Assu')\n",
            "Regiões de Saúde do Estado da Paraíba ('R1', 'R2', 'R3', 'R4', 'R5', 'R6', 'R7', 'R8', 'R9', 'R10', 'R11', 'R12', 'R13')\n",
            "Regiões de Saúde do Estado do Rio de Janeiro ('Baia da Ilha Grande', 'Baixada Litorânea', 'Centro-Sul', 'Médio Paraíba', 'Metropolitana I', 'Metropolitana II', 'Noroeste', 'Norte', 'Serrana')\n",
            "Regiões de Saúde do Estado do Rio Grande do Sul ('R1 - Verdes Campos', 'R2 - Entre Rios', 'R3 - Fronteira Oeste', 'R4 - Belas Praias', 'R5 - Bons Ventos', 'R6 - Vale do Paranhana', 'R7 - Vale dos Sinos', 'R8 - Vale do Caí', 'R9 - Cabonífera', 'R10 - Poa/ Vale do Gravataí')\n",
            "Fim de Programa\n"
          ]
        }
      ],
      "source": [
        "print(\"Estados e Regiões de Saúde em formato de LISTA:\")\n",
        "\n",
        "RioGrandedoNorte = ['R1 - São José do Mipibu', \n",
        "                    'R2 - Mossoró',\n",
        "                    'R3 - João Câmara',\n",
        "                    'R4 - Caicó',\n",
        "                    'R5 - Santa Cruz',\n",
        "                    'R6 - Pau dos Ferros',\n",
        "                    'R7 - Metropolitana',\n",
        "                    'R8 - Assu']\n",
        "\n",
        "print('Regiões de Saúde do Estado do Rio Grande do Norte', RioGrandedoNorte)\n",
        "\n",
        "Paraíba = ['R1', \n",
        "           'R2',\n",
        "           'R3',\n",
        "           'R4',\n",
        "           'R5',\n",
        "           'R6',\n",
        "           'R7',\n",
        "           'R8',\n",
        "           'R9',\n",
        "           'R10',\n",
        "           'R11',\n",
        "           'R12',\n",
        "           'R13',]\n",
        "\n",
        "print ('Regiões de Saúde do Estado da Paraíba',Paraíba)           \n",
        "\n",
        "\n",
        "RiodeJaneiro = ['Baia da Ilha Grande', \n",
        "                'Baixada Litorânea',\n",
        "                'Centro-Sul',\n",
        "                'Médio Paraíba',\n",
        "                'Metropolitana I',\n",
        "                'Metropolitana II',\n",
        "                'Noroeste',\n",
        "                'Norte',\n",
        "                'Serrana']\n",
        "\n",
        "print('Regiões de Saúde do Estado do Rio de Janeiro',RiodeJaneiro)\n",
        "\n",
        "RioGrandedoSul = ['R1 - Verdes Campos',\n",
        "                  'R2 - Entre Rios',\n",
        "                  'R3 - Fronteira Oeste',\n",
        "                  'R4 - Belas Praias',\n",
        "                  'R5 - Bons Ventos',\n",
        "                  'R6 - Vale do Paranhana',\n",
        "                  'R7 - Vale dos Sinos',\n",
        "                  'R8 - Vale do Caí',\n",
        "                  'R9 - Cabonífera',\n",
        "                  'R10 - Poa/ Vale do Gravataí']\n",
        "\n",
        "print('Regiões de Saúde do Estado do Rio Grande do Sul', RioGrandedoSul)\n",
        "\n",
        "print(\"Estados e Regiões de Saúde em formato de TUPLA:\")\n",
        "\n",
        "RioGrandedoNorte = ('R1 - São José do Mipibu', \n",
        "                    'R2 - Mossoró',\n",
        "                    'R3 - João Câmara',\n",
        "                    'R4 - Caicó',\n",
        "                    'R5 - Santa Cruz',\n",
        "                    'R6 - Pau dos Ferros',\n",
        "                    'R7 - Metropolitana',\n",
        "                    'R8 - Assu')\n",
        "\n",
        "print('Regiões de Saúde do Estado do Rio Grande do Norte', RioGrandedoNorte)\n",
        "\n",
        "Paraíba = ('R1', \n",
        "           'R2',\n",
        "           'R3',\n",
        "           'R4',\n",
        "           'R5',\n",
        "           'R6',\n",
        "           'R7',\n",
        "           'R8',\n",
        "           'R9',\n",
        "           'R10',\n",
        "           'R11',\n",
        "           'R12',\n",
        "           'R13',)\n",
        "\n",
        "print('Regiões de Saúde do Estado da Paraíba', Paraíba)           \n",
        "\n",
        "\n",
        "RiodeJaneiro = ('Baia da Ilha Grande', \n",
        "                'Baixada Litorânea',\n",
        "                'Centro-Sul',\n",
        "                'Médio Paraíba',\n",
        "                'Metropolitana I',\n",
        "                'Metropolitana II',\n",
        "                'Noroeste',\n",
        "                'Norte',\n",
        "                'Serrana')\n",
        "\n",
        "print('Regiões de Saúde do Estado do Rio de Janeiro', RiodeJaneiro)\n",
        "\n",
        "RioGrandedoSul = ('R1 - Verdes Campos',\n",
        "                  'R2 - Entre Rios',\n",
        "                  'R3 - Fronteira Oeste',\n",
        "                  'R4 - Belas Praias',\n",
        "                  'R5 - Bons Ventos',\n",
        "                  'R6 - Vale do Paranhana',\n",
        "                  'R7 - Vale dos Sinos',\n",
        "                  'R8 - Vale do Caí',\n",
        "                  'R9 - Cabonífera',\n",
        "                  'R10 - Poa/ Vale do Gravataí')\n",
        "\n",
        "print('Regiões de Saúde do Estado do Rio Grande do Sul', RioGrandedoSul)\n",
        "print('Fim de Programa')"
      ]
    },
    {
      "cell_type": "markdown",
      "metadata": {
        "id": "vZ8xn0Qcu3J_"
      },
      "source": [
        "# Questão 1:\n",
        "B. Mande printar na tela o número de casos acumulados para o estado do rio de janeiro tanto para a tupla quanto para a lista."
      ]
    },
    {
      "cell_type": "code",
      "execution_count": 5,
      "metadata": {
        "colab": {
          "base_uri": "https://localhost:8080/"
        },
        "id": "G51Khj-dgUW8",
        "outputId": "46e004ba-41d9-4f78-b3db-c1859d976bdf"
      },
      "outputs": [
        {
          "name": "stdout",
          "output_type": "stream",
          "text": [
            "Casos acumulados em formato de LISTA:\n",
            "Casos acumulados no Estado do Rio de Janeiro: [1285731]\n",
            "Casos acumulados em formato de TUPLA:\n",
            "Casos acumulados no Estado do Rio de Janeiro: 1285731\n",
            "Fim de Programa\n"
          ]
        }
      ],
      "source": [
        "print(\"Casos acumulados em formato de LISTA:\")\n",
        "\n",
        "CasosAcumuladosRiodeJaneiro = [1285731]\n",
        "\n",
        "print(\"Casos acumulados no Estado do Rio de Janeiro:\", CasosAcumuladosRiodeJaneiro)\n",
        "\n",
        "print(\"Casos acumulados em formato de TUPLA:\")\n",
        "\n",
        "CasosAcumuladosRiodeJaneiro = (1285731)\n",
        "\n",
        "print(\"Casos acumulados no Estado do Rio de Janeiro:\", CasosAcumuladosRiodeJaneiro)\n",
        "print('Fim de Programa')\n",
        "\n",
        "\n"
      ]
    },
    {
      "cell_type": "markdown",
      "metadata": {
        "id": "xYBCklFsuuaw"
      },
      "source": [
        "# Questão 1:\n",
        "C. Apresente na tela todos os óbitos acumulados mostrando os casos apenas para o caso dos estados (sem mostrar regiões de saúde, etc..)."
      ]
    },
    {
      "cell_type": "code",
      "execution_count": 6,
      "metadata": {
        "colab": {
          "base_uri": "https://localhost:8080/"
        },
        "id": "lS006-ZbxA0_",
        "outputId": "dc60e40c-0465-4631-a95d-d9cee6c8fed8"
      },
      "outputs": [
        {
          "name": "stdout",
          "output_type": "stream",
          "text": [
            "Óbitos acumulados em formato de LISTA:\n",
            "Óbitos acumulados no estado do Rio Grande do Norte: [7337]\n",
            "Óbitos acumulados no estado da Paraíba: [9311]\n",
            "Óbitos acumulados no estado do Rio de Janeiro: [66134]\n",
            "Óbitos acumulados no estado do Rio Grande do Sul: [34860]\n",
            "Óbitos acumulados em formato de TUPLA:\n",
            "Óbitos acumulados no estado do Rio Grande do Norte: 7337\n",
            "Óbitos acumulados no estado da Paraíba: 9311\n",
            "Óbitos acumulados no estado do Rio de Janeiro: 66134\n",
            "Óbitos acumulados no estado do Rio Grande do Sul: 34860\n",
            "Fim de Programa\n"
          ]
        }
      ],
      "source": [
        "print(\"Óbitos acumulados em formato de LISTA:\")\n",
        "\n",
        "ÓbitosAcumuladosRioGrandedoNorte = [7337]\n",
        "print(\"Óbitos acumulados no estado do Rio Grande do Norte:\", ÓbitosAcumuladosRioGrandedoNorte)\n",
        "\n",
        "ÓbitosAcumuladosParaíba = [9311]\n",
        "print(\"Óbitos acumulados no estado da Paraíba:\", ÓbitosAcumuladosParaíba)\n",
        "\n",
        "ÓbitosAcumuladosRiodeJaneiro = [66134]\n",
        "print(\"Óbitos acumulados no estado do Rio de Janeiro:\", ÓbitosAcumuladosRiodeJaneiro)\n",
        "\n",
        "ÓbitosAcumuladosRioGrandedoSul = [34860]\n",
        "print(\"Óbitos acumulados no estado do Rio Grande do Sul:\", ÓbitosAcumuladosRioGrandedoSul)\n",
        "\n",
        "\n",
        "\n",
        "print(\"Óbitos acumulados em formato de TUPLA:\")\n",
        "ÓbitosAcumuladosRioGrandedoNorte = (7337)\n",
        "print(\"Óbitos acumulados no estado do Rio Grande do Norte:\", ÓbitosAcumuladosRioGrandedoNorte)\n",
        "\n",
        "ÓbitosAcumuladosParaíba = (9311)\n",
        "print(\"Óbitos acumulados no estado da Paraíba:\", ÓbitosAcumuladosParaíba)\n",
        "\n",
        "ÓbitosAcumuladosRiodeJaneiro = (66134)\n",
        "print(\"Óbitos acumulados no estado do Rio de Janeiro:\", ÓbitosAcumuladosRiodeJaneiro)\n",
        "\n",
        "ÓbitosAcumuladosRioGrandedoSul = (34860)\n",
        "print(\"Óbitos acumulados no estado do Rio Grande do Sul:\", ÓbitosAcumuladosRioGrandedoSul)\n",
        "print('Fim de Programa')\n",
        "\n"
      ]
    },
    {
      "cell_type": "markdown",
      "metadata": {
        "id": "lwUuIIxCunbf"
      },
      "source": [
        "# Questão 1:\n",
        "D. Assuma que os dados de óbitos novos para o estado da paraíba estejam errados em 10 unidades para menos. Sobrescreva a informação tanto na lista quanto na tupla corrigindo os dados."
      ]
    },
    {
      "cell_type": "code",
      "execution_count": 7,
      "metadata": {
        "colab": {
          "base_uri": "https://localhost:8080/",
          "height": 274
        },
        "id": "7j54xt8618cv",
        "outputId": "00fabc60-c7dd-425c-f2f5-24dc9491299c"
      },
      "outputs": [
        {
          "name": "stdout",
          "output_type": "stream",
          "text": [
            "Óbitos novos no estado da Paraíba: 13\n",
            "Fim de Programa\n"
          ]
        },
        {
          "ename": "TypeError",
          "evalue": "'int' object does not support item assignment",
          "output_type": "error",
          "traceback": [
            "\u001b[1;31m---------------------------------------------------------------------------\u001b[0m",
            "\u001b[1;31mTypeError\u001b[0m                                 Traceback (most recent call last)",
            "\u001b[1;32m~\\AppData\\Local\\Temp/ipykernel_10892/4048909186.py\u001b[0m in \u001b[0;36m<module>\u001b[1;34m\u001b[0m\n\u001b[0;32m      9\u001b[0m \u001b[1;31m# Tupla\u001b[0m\u001b[1;33m\u001b[0m\u001b[1;33m\u001b[0m\u001b[0m\n\u001b[0;32m     10\u001b[0m \u001b[0mÓbitosNovosParaíba\u001b[0m \u001b[1;33m=\u001b[0m \u001b[1;33m(\u001b[0m\u001b[1;36m3\u001b[0m\u001b[1;33m)\u001b[0m\u001b[1;33m\u001b[0m\u001b[1;33m\u001b[0m\u001b[0m\n\u001b[1;32m---> 11\u001b[1;33m \u001b[0mÓbitosNovosParaíba\u001b[0m \u001b[1;33m[\u001b[0m\u001b[1;36m0\u001b[0m\u001b[1;33m]\u001b[0m \u001b[1;33m=\u001b[0m \u001b[1;36m13\u001b[0m\u001b[1;33m\u001b[0m\u001b[1;33m\u001b[0m\u001b[0m\n\u001b[0m\u001b[0;32m     12\u001b[0m \u001b[0mprint\u001b[0m\u001b[1;33m(\u001b[0m\u001b[1;34m\"Óbitos novos no estado da Paraíba:\"\u001b[0m\u001b[1;33m,\u001b[0m \u001b[0mÓbitosNovosParaíba\u001b[0m\u001b[1;33m[\u001b[0m\u001b[1;36m0\u001b[0m\u001b[1;33m]\u001b[0m\u001b[1;33m)\u001b[0m\u001b[1;33m\u001b[0m\u001b[1;33m\u001b[0m\u001b[0m\n\u001b[0;32m     13\u001b[0m \u001b[1;33m\u001b[0m\u001b[0m\n",
            "\u001b[1;31mTypeError\u001b[0m: 'int' object does not support item assignment"
          ]
        }
      ],
      "source": [
        "# Ajustar valores:\n",
        "\n",
        "# Lista\n",
        "ÓbitosNovosParaíba = [3]\n",
        "ÓbitosNovosParaíba [0]= 13\n",
        "print(\"Óbitos novos no estado da Paraíba:\", ÓbitosNovosParaíba[0])\n",
        "print('Fim de Programa')\n",
        "\n",
        "# Tupla\n",
        "ÓbitosNovosParaíba = (3)\n",
        "ÓbitosNovosParaíba [0] = 13\n",
        "print(\"Óbitos novos no estado da Paraíba:\", ÓbitosNovosParaíba[0])\n",
        "\n"
      ]
    },
    {
      "cell_type": "markdown",
      "metadata": {
        "id": "V-03-LeCub0X"
      },
      "source": [
        "# Questão 1:\n",
        "E. As duas operações foram possíveis (lista e tupla)? Justifique."
      ]
    },
    {
      "cell_type": "code",
      "execution_count": null,
      "metadata": {
        "colab": {
          "base_uri": "https://localhost:8080/"
        },
        "id": "jBe4vxVYnxhb",
        "outputId": "9de79f17-9538-4766-99aa-f2f123be2326"
      },
      "outputs": [
        {
          "name": "stdout",
          "output_type": "stream",
          "text": [
            "Pergunta E: As duas operações foram possíveis (lista e tupla)? Justifique.\n",
            "Resposta: Não é possível sobscrever as informações de TUPLA, porque ao contrário das LISTAS, elas são imutáveis, o que significa que elas não podem ser alteradas.\n",
            "Fim de Programa\n"
          ]
        }
      ],
      "source": [
        "Questao1 = ('Pergunta E: As duas operações foram possíveis (lista e tupla)? Justifique.')\n",
        "\n",
        "print(Questao1)\n",
        "print('Resposta: Não é possível sobscrever as informações de TUPLA, porque ao contrário das LISTAS, elas são imutáveis, o que significa que elas não podem ser alteradas.')\n",
        "print('Fim de Programa')"
      ]
    },
    {
      "cell_type": "markdown",
      "metadata": {
        "id": "3-k6yaSCuOaA"
      },
      "source": [
        "# Questão 1:\n",
        "F. Crie uma nova lista com apenas dados de 1 estado e todos os municípios e adicione essa lista nova a lista já existente (append ou insert)."
      ]
    },
    {
      "cell_type": "code",
      "execution_count": null,
      "metadata": {
        "colab": {
          "base_uri": "https://localhost:8080/"
        },
        "id": "pXAa-pYec2kF",
        "outputId": "8eddcfad-2923-47ee-93e2-672a46bbb29a"
      },
      "outputs": [
        {
          "name": "stdout",
          "output_type": "stream",
          "text": [
            "Dados do estado e dos municípios de Roraima:\n",
            "['Estado de Roraima = 15', 'Boa Vista = 1', 'Rorainópolis = 1', 'Caracaraí = 1', 'Pacaraima = 1', 'Cantá = 1', 'Mucajaí = 1', 'Alto Alegre = 1', 'Amajari =1', 'Bonfim = 1', 'Iracema = 1', 'Normandia = 1', 'Uiramutã = 1', 'Caroebe = 1', 'São João da Baliza = 1', 'São Luiz = 1', ('R1 - São José do Mipibu', 'R2 - Mossoró', 'R3 - João Câmara', 'R4 - Caicó', 'R5 - Santa Cruz', 'R6 - Pau dos Ferros', 'R7 - Metropolitana', 'R8 - Assu')]\n",
            "Fim de Programa\n"
          ]
        }
      ],
      "source": [
        "DadosdoestadodeRoraima = ['Estado de Roraima = 15', \n",
        "                          'Boa Vista = 1',\n",
        "                          'Rorainópolis = 1',\n",
        "                          'Caracaraí = 1',\n",
        "                          'Pacaraima = 1',\n",
        "                          'Cantá = 1',\n",
        "                          'Mucajaí = 1',\n",
        "                          'Alto Alegre = 1',\n",
        "                          'Amajari =1',\n",
        "                          'Bonfim = 1',\n",
        "                          'Iracema = 1',\n",
        "                          'Normandia = 1',\n",
        "                          'Uiramutã = 1',\n",
        "                          'Caroebe = 1',\n",
        "                          'São João da Baliza = 1',\n",
        "                          'São Luiz = 1']\n",
        "\n",
        "DadosdoestadodeRoraima.insert(16,RioGrandedoNorte)\n",
        "print('Dados do estado e dos municípios de Roraima:')\n",
        "print(DadosdoestadodeRoraima)\n",
        "print('Fim de Programa')\n",
        "\n",
        "\n"
      ]
    },
    {
      "cell_type": "markdown",
      "metadata": {
        "id": "ds5Odr3MuH23"
      },
      "source": [
        "# Questão 1:\n",
        "G. Remova da lista os dados das regiões de saúde."
      ]
    },
    {
      "cell_type": "code",
      "execution_count": null,
      "metadata": {
        "colab": {
          "base_uri": "https://localhost:8080/"
        },
        "id": "m39HzdsfjePr",
        "outputId": "0fb41bc4-308f-4e8f-a633-fee650e2db99"
      },
      "outputs": [
        {
          "name": "stdout",
          "output_type": "stream",
          "text": [
            "Óbitos acumulados no estado do Rio Grande do Norte: [7337]\n",
            "Retirando dados das regiões de saúde do Estado do Rio Grande do Norte []\n",
            "Óbitos acumulados no estado da Paraíba: [9311]\n",
            "Retirando dados das regiões de saúde do Estado da Paraíba []\n",
            "Óbitos acumulados no estado do Rio de Janeiro: [66134]\n",
            "Retirando dados das regiões de saúde do Estado do Rio de Janeiro []\n",
            "Óbitos acumulados no estado do Rio Grande do Sul: [34860]\n",
            "Retirando dados das regiões de saúde do Estado do Rio Grande do Sul []\n",
            "Fim de Programa\n"
          ]
        }
      ],
      "source": [
        "ÓbitosAcumuladosRioGrandedoNorte = [7337]\n",
        "print(\"Óbitos acumulados no estado do Rio Grande do Norte:\", ÓbitosAcumuladosRioGrandedoNorte)\n",
        "ÓbitosAcumuladosRioGrandedoNorte.remove(7337)\n",
        "print ('Retirando dados das regiões de saúde do Estado do Rio Grande do Norte', ÓbitosAcumuladosRioGrandedoNorte)\n",
        "\n",
        "ÓbitosAcumuladosParaíba = [9311]\n",
        "print(\"Óbitos acumulados no estado da Paraíba:\", ÓbitosAcumuladosParaíba)\n",
        "ÓbitosAcumuladosParaíba.remove(9311)\n",
        "print ('Retirando dados das regiões de saúde do Estado da Paraíba', ÓbitosAcumuladosRioGrandedoNorte)\n",
        "\n",
        "\n",
        "ÓbitosAcumuladosRiodeJaneiro = [66134]\n",
        "print(\"Óbitos acumulados no estado do Rio de Janeiro:\", ÓbitosAcumuladosRiodeJaneiro)\n",
        "ÓbitosAcumuladosRiodeJaneiro.remove(66134)\n",
        "print ('Retirando dados das regiões de saúde do Estado do Rio de Janeiro', ÓbitosAcumuladosRioGrandedoNorte)\n",
        "\n",
        "\n",
        "ÓbitosAcumuladosRioGrandedoSul = [34860]\n",
        "print(\"Óbitos acumulados no estado do Rio Grande do Sul:\", ÓbitosAcumuladosRioGrandedoSul)\n",
        "ÓbitosAcumuladosRioGrandedoSul.remove(34860)\n",
        "print ('Retirando dados das regiões de saúde do Estado do Rio Grande do Sul', ÓbitosAcumuladosRioGrandedoNorte)\n",
        "print('Fim de Programa')\n"
      ]
    },
    {
      "cell_type": "markdown",
      "metadata": {
        "id": "-_AeAVygt8-f"
      },
      "source": [
        "# Questão 1:\n",
        "H. Verifique se a soma dos dados dos municípios na data de 18/08/2020 é igual ao dado da lista, mostrando na tela apenas se for verdadeiro."
      ]
    },
    {
      "cell_type": "code",
      "execution_count": null,
      "metadata": {
        "colab": {
          "base_uri": "https://localhost:8080/"
        },
        "id": "wgvhKVw8ogDd",
        "outputId": "a8e00ee7-afa6-4056-ee1e-c8a759224540"
      },
      "outputs": [
        {
          "name": "stdout",
          "output_type": "stream",
          "text": [
            "Valor: 36 . Em 18/08/2020, a soma de dados dos municípios conscide com os dados do Estado.\n"
          ]
        }
      ],
      "source": [
        "# Ajustar valores:\n",
        "\n",
        "# Dados dos Múnicípios do Estado de Roraima em 18/08/2020:\n",
        "BoaVista = 3\n",
        "Rorainópolis = 1\n",
        "Caracaraí = 5\n",
        "Pacaraima = 2\n",
        "Cantá = 1\n",
        "Mucajaí = 2\n",
        "AltoAlegre = 1\n",
        "Amajari = 1\n",
        "Bonfim = 5\n",
        "Iracema = 5\n",
        "Normandia = 4\n",
        "Uiramutã = 1\n",
        "Caroebe = 3\n",
        "SãoJoãodaBaliza = 1\n",
        "SãoLuiz = 1\n",
        "\n",
        "# Dados do Estado de Roraima em 18/08/2020:\n",
        "EstadoRoraima = 36\n",
        "\n",
        "if (EstadoRoraima == BoaVista+\n",
        "               Rorainópolis+\n",
        "               Caracaraí+\n",
        "               Pacaraima+\n",
        "               Cantá+\n",
        "               Mucajaí+\n",
        "               AltoAlegre+\n",
        "               Amajari+\n",
        "               Bonfim+\n",
        "               Iracema+\n",
        "               Normandia+\n",
        "               Uiramutã+              \n",
        "               Caroebe+\n",
        "               SãoJoãodaBaliza+\n",
        "               SãoLuiz):\n",
        "  print('Valor:', EstadoRoraima, '. Em 18/08/2020, a soma de dados dos municípios conscide com os dados do Estado.')\n",
        "else:\n",
        "  print('Em 18/08/2020, a soma de dados dos municípios não conscide com os dados do Estado.')\n",
        "  print('Fim de Programa')\n",
        "\n",
        "\n",
        "\n"
      ]
    },
    {
      "cell_type": "markdown",
      "metadata": {
        "id": "dEpk4mF4ttKw"
      },
      "source": [
        "# Questão 1:\n",
        "I. Retorne o tamanho total da lista."
      ]
    },
    {
      "cell_type": "code",
      "execution_count": null,
      "metadata": {
        "colab": {
          "base_uri": "https://localhost:8080/"
        },
        "id": "k3Pl6wbeo2O8",
        "outputId": "afaeedab-33f4-4670-86ab-c920499d76c0"
      },
      "outputs": [
        {
          "name": "stdout",
          "output_type": "stream",
          "text": [
            "Tamanho  total da lista:\n",
            "Casos acumulados no Estado do Rio de Janeiro: 1285731\n",
            "Óbitos acumulados no estado do Rio Grande do Norte: 7337\n",
            "Óbitos acumulados no estado da Paraíba: 9311\n",
            "Óbitos acumulados no estado do Rio de Janeiro: 66134\n",
            "Óbitos acumulados no estado do Rio Grande do Sul: 34860\n",
            "Óbitos novos no estado da Paraíba: 3\n"
          ]
        }
      ],
      "source": [
        "CasosAcumuladosRiodeJaneiro = 1285731\n",
        "ÓbitosAcumuladosRioGrandedoNorte = 7337\n",
        "ÓbitosAcumuladosParaíba = 9311\n",
        "ÓbitosAcumuladosRiodeJaneiro = 66134\n",
        "ÓbitosAcumuladosRioGrandedoSul = 34860\n",
        "ÓbitosNovosParaíba = 3\n",
        "\n",
        "\n",
        "\n",
        "print('Tamanho  total da lista:')\n",
        "print('Casos acumulados no Estado do Rio de Janeiro:', CasosAcumuladosRiodeJaneiro)\n",
        "print(\"Óbitos acumulados no estado do Rio Grande do Norte:\", ÓbitosAcumuladosRioGrandedoNorte)\n",
        "print(\"Óbitos acumulados no estado da Paraíba:\", ÓbitosAcumuladosParaíba)\n",
        "print(\"Óbitos acumulados no estado do Rio de Janeiro:\", ÓbitosAcumuladosRiodeJaneiro)\n",
        "print(\"Óbitos acumulados no estado do Rio Grande do Sul:\", ÓbitosAcumuladosRioGrandedoSul)\n",
        "print(\"Óbitos novos no estado da Paraíba:\", ÓbitosNovosParaíba)\n",
        "\n",
        "\n"
      ]
    },
    {
      "cell_type": "markdown",
      "metadata": {
        "id": "RzjeYpqXthqm"
      },
      "source": [
        "# Questão 1:\n",
        "J. Verifique qual é o maior valor numérico de óbitos novos e o menor valor numérico de óbitos novos."
      ]
    },
    {
      "cell_type": "code",
      "execution_count": null,
      "metadata": {
        "colab": {
          "base_uri": "https://localhost:8080/"
        },
        "id": "1lSKHOq-tV3p",
        "outputId": "a4a6c77b-623c-4eb9-cfaf-37d308692a27"
      },
      "outputs": [
        {
          "name": "stdout",
          "output_type": "stream",
          "text": [
            "Menor numérico de óbitos novos:\n",
            "3\n",
            "Maior numérico de óbitos novos:\n",
            "12\n",
            "Fim de Programa\n"
          ]
        }
      ],
      "source": [
        "ÓbitosNovosRiodeJaneiro = 3\n",
        "ÓbitosNovosRioGrandedoNorte: 12\n",
        "ÓbitosNovosParaíba: 4\n",
        "ÓbitosNovosRioGrandeDoSul: 7\n",
        "\n",
        "\n",
        "NovosObitos = [3,12,4,7]\n",
        "\n",
        "print(\"Menor numérico de óbitos novos:\")\n",
        "print(min(NovosObitos))\n",
        "print(\"Maior numérico de óbitos novos:\")\n",
        "print(max(NovosObitos))\n",
        "print(\"Fim de Programa\")\n",
        "\n",
        "\n"
      ]
    },
    {
      "cell_type": "markdown",
      "metadata": {
        "id": "-OkxS1zHvsY6"
      },
      "source": [
        "# Questão 1:\n",
        "K. Crie um dicionário de forma que seja possível encontrar os municípios associados a um estado específico e extrair os dados de casos novos em apenas um comando."
      ]
    },
    {
      "cell_type": "code",
      "execution_count": null,
      "metadata": {
        "colab": {
          "base_uri": "https://localhost:8080/"
        },
        "id": "pkh35vFiv0XC",
        "outputId": "2134d2bc-4636-498a-a3eb-880702e73fdd"
      },
      "outputs": [
        {
          "name": "stdout",
          "output_type": "stream",
          "text": [
            "Digite o número 1 para encontrar os municípios do estado de Rio Grande do Norte:1\n",
            "['R1 - São José do Mipibu', 'R2 - Mossoró', 'R3 - João Câmara', 'R4 - Caicó', 'R5 - Santa Cruz', 'R6 - Pau dos Ferros', 'R7 - Metropolitana', 'R8 - Assu']\n",
            "Digite o número 2 para encontrar os municípios do estado da Paraíba:2\n",
            "['Região 1', 'Região 2', 'Região 3', 'Região 4', 'Região 5', 'Região 6', 'Região 7', 'Região 8', 'Região 9', 'Região 10', 'Região 11', 'Região 12', 'Região 13']\n",
            "Digite o número 3 para encontrar os municípios do estado do Rio de Janeiro:3\n",
            "['Baia da Ilha Grande', 'Baixada Litorânea', 'Centro-Sul', 'Médio Paraíba', 'Metropolitana I', 'Metropolitana II', 'Noroeste', 'Norte', 'Serrana']\n",
            "Digite o número 4 para encontrar os municípios do estado do Rio Grande do Sul:4\n",
            "['R1 - Verdes Campos', 'R2 - Entre Rios', 'R3 - Fronteira Oeste', 'R4 - Belas Praias', 'R5 - Bons Ventos', 'R6 - Vale do Paranhana', 'R7 - Vale dos Sinos', 'R8 - Vale do Caí', 'R9 - Cabonífera', 'R10 - Poa/ Vale do Gravataí']\n",
            "Digite o número 5 para encontrar os municípios do estado de Roraima: 5\n",
            "('BoaVista', 'Rorainópolis', 'Caracaraí', 'Pacaraima', 'Cantá', 'Mucajaí', 'AltoAlegre', 'Amajari', 'Bonfim', 'Iracema', 'Normandia', 'Uiramutã', 'Caroebe', 'São João da Baliza', 'SãoLuiz')\n",
            "Digite o número 6 para ter acesso a quantidade de novos casos: 6\n",
            "Número de casos Novos: 12\n",
            "Fim de Programa\n"
          ]
        }
      ],
      "source": [
        "# Encontrar os municípios associados a um estado específico\n",
        "\n",
        "Digitando1RN = int(input('Digite o número 1 para encontrar os municípios do estado de Rio Grande do Norte:'))\n",
        "RioGrandedoNorte = ['R1 - São José do Mipibu', \n",
        "                    'R2 - Mossoró',\n",
        "                    'R3 - João Câmara',\n",
        "                    'R4 - Caicó',\n",
        "                    'R5 - Santa Cruz',\n",
        "                    'R6 - Pau dos Ferros',\n",
        "                    'R7 - Metropolitana',\n",
        "                    'R8 - Assu']\n",
        "\n",
        "if Digitando1RN == 1:\n",
        "  print(RioGrandedoNorte)\n",
        "else:\n",
        "  print(\"Valor inválido\")                    \n",
        "\n",
        "\n",
        "Digitando1PB = int(input('Digite o número 2 para encontrar os municípios do estado da Paraíba:'))\n",
        "Paraíba = ['Região 1', \n",
        "           'Região 2',\n",
        "           'Região 3',\n",
        "           'Região 4',\n",
        "           'Região 5',\n",
        "           'Região 6',\n",
        "           'Região 7',\n",
        "           'Região 8',\n",
        "           'Região 9',\n",
        "           'Região 10',\n",
        "           'Região 11',\n",
        "           'Região 12',\n",
        "           'Região 13',]\n",
        "\n",
        "if Digitando1PB == 2:\n",
        "  print(Paraíba)\n",
        "else:\n",
        "  print(\"Valor inválido\")   \n",
        "\n",
        "\n",
        "Digitando1RJ = int(input('Digite o número 3 para encontrar os municípios do estado do Rio de Janeiro:'))\n",
        "RiodeJaneiro = ['Baia da Ilha Grande', \n",
        "                'Baixada Litorânea',\n",
        "                'Centro-Sul',\n",
        "                'Médio Paraíba',\n",
        "                'Metropolitana I',\n",
        "                'Metropolitana II',\n",
        "                'Noroeste',\n",
        "                'Norte',\n",
        "                'Serrana']\n",
        "\n",
        "if Digitando1RJ == 3:\n",
        "  print(RiodeJaneiro)\n",
        "else:\n",
        "  print(\"Valor inválido\")   \n",
        "\n",
        "Digitando1RS = int(input('Digite o número 4 para encontrar os municípios do estado do Rio Grande do Sul:'))\n",
        "RioGrandedoSul = ['R1 - Verdes Campos',\n",
        "                  'R2 - Entre Rios',\n",
        "                  'R3 - Fronteira Oeste',\n",
        "                  'R4 - Belas Praias',\n",
        "                  'R5 - Bons Ventos',\n",
        "                  'R6 - Vale do Paranhana',\n",
        "                  'R7 - Vale dos Sinos',\n",
        "                  'R8 - Vale do Caí',\n",
        "                  'R9 - Cabonífera',\n",
        "                  'R10 - Poa/ Vale do Gravataí']\n",
        "\n",
        "if Digitando1RS == 4:\n",
        "  print(RioGrandedoSul)\n",
        "else:\n",
        "  print(\"Valor inválido\")\n",
        "\n",
        "Digitando1Roraima = int(input('Digite o número 5 para encontrar os municípios do estado de Roraima: '))\n",
        "EstadoRoraima = ('BoaVista','Rorainópolis','Caracaraí','Pacaraima','Cantá','Mucajaí','AltoAlegre','Amajari','Bonfim','Iracema','Normandia','Uiramutã','Caroebe','São João da Baliza','SãoLuiz')\n",
        "\n",
        "if Digitando1Roraima == 5:\n",
        "  print(EstadoRoraima)\n",
        "else:\n",
        "  print(\"Valor inválido\")\n",
        "\n",
        "# E extrair os dados de casos novos em apenas um comando.\n",
        "ExtraçãoDadosNovos = int(input('Digite o número 6 para ter acesso a quantidade de novos casos: '))\n",
        "CasosNovos = 12\n",
        "if ExtraçãoDadosNovos != 6:\n",
        "  print(\"Você digitou um número incorreto\")\n",
        "  \n",
        "else:\n",
        "  print(\"Número de casos Novos:\",CasosNovos)\n",
        "print(\"Fim de Programa\")\n"
      ]
    },
    {
      "cell_type": "markdown",
      "metadata": {
        "id": "wOHbJojLv01r"
      },
      "source": [
        "# Questão 1:\n",
        "L. Extraia os dados de Teresina/PI apresentando os casos novos com um print."
      ]
    },
    {
      "cell_type": "code",
      "execution_count": null,
      "metadata": {
        "colab": {
          "base_uri": "https://localhost:8080/"
        },
        "id": "RTnGxexhv_ab",
        "outputId": "196cf6ca-6b17-4362-f926-3279dbff4f4e"
      },
      "outputs": [
        {
          "name": "stdout",
          "output_type": "stream",
          "text": [
            "Número de Casos Acumulados em Teresina-PI: 105680\n",
            "Número de Casos Novos em Teresina-PI: 37\n",
            "Número de Óbitos Acumulados em Teresina-PI: 2549\n",
            "Número de Óbitos Novos em Teresina-PI: 2\n"
          ]
        }
      ],
      "source": [
        "#30/09/2021\n",
        "CasosAcumuladosTeresinaPI = 105680\n",
        "CasosNovosTeresinaPI = 37\n",
        "ÓbitosAcumuladosTeresinaPI = 2549\n",
        "ÓbitosNovosTeresinaPI = 2\n",
        "\n",
        "print('Número de Casos Acumulados em Teresina-PI:',CasosAcumuladosTeresinaPI)\n",
        "print('Número de Casos Novos em Teresina-PI:',CasosNovosTeresinaPI)\n",
        "print('Número de Óbitos Acumulados em Teresina-PI:',ÓbitosAcumuladosTeresinaPI)\n",
        "print('Número de Óbitos Novos em Teresina-PI:',ÓbitosNovosTeresinaPI)"
      ]
    }
  ],
  "metadata": {
    "colab": {
      "include_colab_link": true,
      "name": "Lista 5:_Lista de exercícios.ipynb",
      "provenance": []
    },
    "interpreter": {
      "hash": "80249f3719952e5c8c7e1aa0ada2cb9259a4f34848ef4dce22a4420f42c6a3dd"
    },
    "kernelspec": {
      "display_name": "Python 3.9.7 64-bit",
      "name": "python3"
    },
    "language_info": {
      "codemirror_mode": {
        "name": "ipython",
        "version": 3
      },
      "file_extension": ".py",
      "mimetype": "text/x-python",
      "name": "python",
      "nbconvert_exporter": "python",
      "pygments_lexer": "ipython3",
      "version": "3.9.7"
    }
  },
  "nbformat": 4,
  "nbformat_minor": 2
}
